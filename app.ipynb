{
 "cells": [
  {
   "cell_type": "code",
   "execution_count": 1,
   "id": "73bb23ee",
   "metadata": {},
   "outputs": [],
   "source": [
    "from flask import Flask, jsonify, request\n",
    "from flask_cors import CORS\n",
    "import pandas as pd\n",
    "import pymongo\n",
    "from fuzzywuzzy import process\n",
    "from transformers import pipeline\n",
    "import os"
   ]
  },
  {
   "cell_type": "code",
   "execution_count": 2,
   "id": "7e8df3d1",
   "metadata": {},
   "outputs": [
    {
     "data": {
      "text/plain": [
       "<flask_cors.extension.CORS at 0x1b69b879f90>"
      ]
     },
     "execution_count": 2,
     "metadata": {},
     "output_type": "execute_result"
    }
   ],
   "source": [
    "app = Flask(__name__)\n",
    "CORS(app)"
   ]
  },
  {
   "cell_type": "code",
   "execution_count": 3,
   "id": "73ee0177",
   "metadata": {},
   "outputs": [],
   "source": [
    "# Load environment variables (only in development)\n",
    "if os.environ.get(\"FLASK_ENV\") != \"production\":\n",
    "    from dotenv import load_dotenv\n",
    "    load_dotenv()"
   ]
  },
  {
   "cell_type": "code",
   "execution_count": 4,
   "id": "c415dced",
   "metadata": {},
   "outputs": [],
   "source": [
    "# MongoDB setup\n",
    "mongo_url = os.getenv('MONGO_URL')\n",
    "client = pymongo.MongoClient(mongo_url)\n",
    "db = client['test']\n",
    "collection = db['policies']"
   ]
  },
  {
   "cell_type": "code",
   "execution_count": 5,
   "id": "55417ff7",
   "metadata": {},
   "outputs": [],
   "source": [
    "# Load data into a DataFrame\n",
    "data = pd.DataFrame(list(collection.find()))"
   ]
  },
  {
   "cell_type": "code",
   "execution_count": 6,
   "id": "66a276d9",
   "metadata": {},
   "outputs": [
    {
     "name": "stdout",
     "output_type": "stream",
     "text": [
      "WARNING:tensorflow:From C:\\Users\\moham\\anaconda3\\Lib\\site-packages\\tf_keras\\src\\losses.py:2976: The name tf.losses.sparse_softmax_cross_entropy is deprecated. Please use tf.compat.v1.losses.sparse_softmax_cross_entropy instead.\n",
      "\n"
     ]
    },
    {
     "name": "stderr",
     "output_type": "stream",
     "text": [
      "C:\\Users\\moham\\anaconda3\\Lib\\site-packages\\transformers\\tokenization_utils_base.py:1601: FutureWarning: `clean_up_tokenization_spaces` was not set. It will be set to `True` by default. This behavior will be depracted in transformers v4.45, and will be then set to `False` by default. For more details check this issue: https://github.com/huggingface/transformers/issues/31884\n",
      "  warnings.warn(\n"
     ]
    }
   ],
   "source": [
    "# Initialize the question-answering pipeline\n",
    "qa_pipeline = pipeline(\"question-answering\", model=\"distilbert-base-cased-distilled-squad\")"
   ]
  },
  {
   "cell_type": "code",
   "execution_count": 7,
   "id": "919b1470",
   "metadata": {},
   "outputs": [],
   "source": [
    "@app.route('/')\n",
    "def home():\n",
    "    return 'Hello World'"
   ]
  },
  {
   "cell_type": "code",
   "execution_count": 8,
   "id": "ea0e73cb",
   "metadata": {},
   "outputs": [],
   "source": [
    "@app.route('/qahandbook/<query>', methods=['POST'])\n",
    "def get_policy_answer(query):\n",
    "    df = data\n",
    "    try:\n",
    "        # Fuzzy search for policy\n",
    "        return jsonify({'policy': search_policy_fuzzy(df, query), 'description': '  Description of the policy...'})\n",
    "    except Exception as e:\n",
    "        # Fallback to QA pipeline if fuzzy search fails\n",
    "        answer = answer_question(df, query)\n",
    "        return jsonify({'policy': query, 'description': answer})\n",
    "\n",
    "def search_policy_fuzzy(data, query):\n",
    "    best_match = process.extractOne(query, data['policy'].tolist())\n",
    "    if best_match:\n",
    "        return data[data['policy'] == best_match[0]]['description'].values[0]\n",
    "    else:\n",
    "        return \"No relevant policy found.\"\n",
    "\n",
    "def answer_question(data, question):\n",
    "    for context in data['description'].tolist():\n",
    "        result = qa_pipeline({'question': question, 'context': context})\n",
    "        if result['score'] > 0.2:  # Confidence threshold\n",
    "            return result['answer']\n",
    "    return \"No relevant policy found.\""
   ]
  },
  {
   "cell_type": "code",
   "execution_count": 9,
   "id": "410e8f94",
   "metadata": {},
   "outputs": [
    {
     "name": "stdout",
     "output_type": "stream",
     "text": [
      " * Serving Flask app '__main__'\n",
      " * Debug mode: on\n"
     ]
    },
    {
     "name": "stderr",
     "output_type": "stream",
     "text": [
      "WARNING: This is a development server. Do not use it in a production deployment. Use a production WSGI server instead.\n",
      " * Running on all addresses (0.0.0.0)\n",
      " * Running on http://127.0.0.1:5000\n",
      " * Running on http://192.168.0.16:5000\n",
      "Press CTRL+C to quit\n",
      "127.0.0.1 - - [16/Sep/2024 21:46:21] \"OPTIONS /qahandbook/remote%20w HTTP/1.1\" 200 -\n",
      "127.0.0.1 - - [16/Sep/2024 21:46:21] \"POST /qahandbook/remote%20w HTTP/1.1\" 200 -\n",
      "127.0.0.1 - - [16/Sep/2024 21:46:22] \"OPTIONS /qahandbook/remote%20word HTTP/1.1\" 200 -\n",
      "127.0.0.1 - - [16/Sep/2024 21:46:22] \"POST /qahandbook/remote%20word HTTP/1.1\" 200 -\n",
      "127.0.0.1 - - [16/Sep/2024 21:46:30] \"OPTIONS /qahandbook/remote HTTP/1.1\" 200 -\n",
      "127.0.0.1 - - [16/Sep/2024 21:46:30] \"POST /qahandbook/remote HTTP/1.1\" 200 -\n",
      "127.0.0.1 - - [16/Sep/2024 21:46:35] \"OPTIONS /qahandbook/cavation HTTP/1.1\" 200 -\n",
      "127.0.0.1 - - [16/Sep/2024 21:46:35] \"POST /qahandbook/cavation HTTP/1.1\" 200 -\n"
     ]
    }
   ],
   "source": [
    "if __name__ == '__main__':\n",
    "    app.run(debug=False, host=\"0.0.0.0\", port=5000)"
   ]
  }
 ],
 "metadata": {
  "kernelspec": {
   "display_name": "Python 3 (ipykernel)",
   "language": "python",
   "name": "python3"
  },
  "language_info": {
   "codemirror_mode": {
    "name": "ipython",
    "version": 3
   },
   "file_extension": ".py",
   "mimetype": "text/x-python",
   "name": "python",
   "nbconvert_exporter": "python",
   "pygments_lexer": "ipython3",
   "version": "3.11.7"
  }
 },
 "nbformat": 4,
 "nbformat_minor": 5
}
